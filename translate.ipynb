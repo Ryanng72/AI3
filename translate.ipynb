{
  "nbformat": 4,
  "nbformat_minor": 0,
  "metadata": {
    "colab": {
      "provenance": [],
      "authorship_tag": "ABX9TyNUCku+W++mvBW3oWaXjY4T",
      "include_colab_link": true
    },
    "kernelspec": {
      "name": "python3",
      "display_name": "Python 3"
    },
    "language_info": {
      "name": "python"
    }
  },
  "cells": [
    {
      "cell_type": "markdown",
      "metadata": {
        "id": "view-in-github",
        "colab_type": "text"
      },
      "source": [
        "<a href=\"https://colab.research.google.com/github/Ryanng72/AI3/blob/main/translate.ipynb\" target=\"_parent\"><img src=\"https://colab.research.google.com/assets/colab-badge.svg\" alt=\"Open In Colab\"/></a>"
      ]
    },
    {
      "cell_type": "code",
      "execution_count": null,
      "metadata": {
        "colab": {
          "base_uri": "https://localhost:8080/"
        },
        "id": "y3juLztGgfFB",
        "outputId": "3d62decd-ec10-4ab2-f2b0-89008325ef7b"
      },
      "outputs": [
        {
          "output_type": "stream",
          "name": "stdout",
          "text": [
            "Looking in indexes: https://pypi.org/simple, https://us-python.pkg.dev/colab-wheels/public/simple/\n",
            "Collecting googletrans==3.1.0a0\n",
            "  Downloading googletrans-3.1.0a0.tar.gz (19 kB)\n",
            "  Preparing metadata (setup.py) ... \u001b[?25l\u001b[?25hdone\n",
            "Collecting httpx==0.13.3\n",
            "  Downloading httpx-0.13.3-py3-none-any.whl (55 kB)\n",
            "\u001b[2K     \u001b[90m━━━━━━━━━━━━━━━━━━━━━━━━━━━━━━━━━━━━━━━━\u001b[0m \u001b[32m55.1/55.1 kB\u001b[0m \u001b[31m2.6 MB/s\u001b[0m eta \u001b[36m0:00:00\u001b[0m\n",
            "\u001b[?25hCollecting idna==2.*\n",
            "  Downloading idna-2.10-py2.py3-none-any.whl (58 kB)\n",
            "\u001b[2K     \u001b[90m━━━━━━━━━━━━━━━━━━━━━━━━━━━━━━━━━━━━━━━━\u001b[0m \u001b[32m58.8/58.8 kB\u001b[0m \u001b[31m5.5 MB/s\u001b[0m eta \u001b[36m0:00:00\u001b[0m\n",
            "\u001b[?25hCollecting chardet==3.*\n",
            "  Downloading chardet-3.0.4-py2.py3-none-any.whl (133 kB)\n",
            "\u001b[2K     \u001b[90m━━━━━━━━━━━━━━━━━━━━━━━━━━━━━━━━━━━━━━\u001b[0m \u001b[32m133.4/133.4 kB\u001b[0m \u001b[31m12.3 MB/s\u001b[0m eta \u001b[36m0:00:00\u001b[0m\n",
            "\u001b[?25hCollecting rfc3986<2,>=1.3\n",
            "  Downloading rfc3986-1.5.0-py2.py3-none-any.whl (31 kB)\n",
            "Collecting httpcore==0.9.*\n",
            "  Downloading httpcore-0.9.1-py3-none-any.whl (42 kB)\n",
            "\u001b[2K     \u001b[90m━━━━━━━━━━━━━━━━━━━━━━━━━━━━━━━━━━━━━━━━\u001b[0m \u001b[32m42.6/42.6 kB\u001b[0m \u001b[31m2.1 MB/s\u001b[0m eta \u001b[36m0:00:00\u001b[0m\n",
            "\u001b[?25hRequirement already satisfied: sniffio in /usr/local/lib/python3.10/dist-packages (from httpx==0.13.3->googletrans==3.1.0a0) (1.3.0)\n",
            "Requirement already satisfied: certifi in /usr/local/lib/python3.10/dist-packages (from httpx==0.13.3->googletrans==3.1.0a0) (2022.12.7)\n",
            "Collecting hstspreload\n",
            "  Downloading hstspreload-2023.1.1-py3-none-any.whl (1.5 MB)\n",
            "\u001b[2K     \u001b[90m━━━━━━━━━━━━━━━━━━━━━━━━━━━━━━━━━━━━━━━━\u001b[0m \u001b[32m1.5/1.5 MB\u001b[0m \u001b[31m40.9 MB/s\u001b[0m eta \u001b[36m0:00:00\u001b[0m\n",
            "\u001b[?25hCollecting h11<0.10,>=0.8\n",
            "  Downloading h11-0.9.0-py2.py3-none-any.whl (53 kB)\n",
            "\u001b[2K     \u001b[90m━━━━━━━━━━━━━━━━━━━━━━━━━━━━━━━━━━━━━━━━\u001b[0m \u001b[32m53.6/53.6 kB\u001b[0m \u001b[31m4.7 MB/s\u001b[0m eta \u001b[36m0:00:00\u001b[0m\n",
            "\u001b[?25hCollecting h2==3.*\n",
            "  Downloading h2-3.2.0-py2.py3-none-any.whl (65 kB)\n",
            "\u001b[2K     \u001b[90m━━━━━━━━━━━━━━━━━━━━━━━━━━━━━━━━━━━━━━━━\u001b[0m \u001b[32m65.0/65.0 kB\u001b[0m \u001b[31m5.7 MB/s\u001b[0m eta \u001b[36m0:00:00\u001b[0m\n",
            "\u001b[?25hCollecting hyperframe<6,>=5.2.0\n",
            "  Downloading hyperframe-5.2.0-py2.py3-none-any.whl (12 kB)\n",
            "Collecting hpack<4,>=3.0\n",
            "  Downloading hpack-3.0.0-py2.py3-none-any.whl (38 kB)\n",
            "Building wheels for collected packages: googletrans\n",
            "  Building wheel for googletrans (setup.py) ... \u001b[?25l\u001b[?25hdone\n",
            "  Created wheel for googletrans: filename=googletrans-3.1.0a0-py3-none-any.whl size=16368 sha256=1817b4e7fb50d5420b70c48678fecd14ac456909fc757c48adf8fbb8b50c38eb\n",
            "  Stored in directory: /root/.cache/pip/wheels/50/5d/3c/8477d0af4ca2b8b1308812c09f1930863caeebc762fe265a95\n",
            "Successfully built googletrans\n",
            "Installing collected packages: rfc3986, hyperframe, hpack, h11, chardet, idna, hstspreload, h2, httpcore, httpx, googletrans\n",
            "  Attempting uninstall: chardet\n",
            "    Found existing installation: chardet 4.0.0\n",
            "    Uninstalling chardet-4.0.0:\n",
            "      Successfully uninstalled chardet-4.0.0\n",
            "  Attempting uninstall: idna\n",
            "    Found existing installation: idna 3.4\n",
            "    Uninstalling idna-3.4:\n",
            "      Successfully uninstalled idna-3.4\n",
            "Successfully installed chardet-3.0.4 googletrans-3.1.0a0 h11-0.9.0 h2-3.2.0 hpack-3.0.0 hstspreload-2023.1.1 httpcore-0.9.1 httpx-0.13.3 hyperframe-5.2.0 idna-2.10 rfc3986-1.5.0\n"
          ]
        }
      ],
      "source": [
        "pip install googletrans==3.1.0a0"
      ]
    },
    {
      "cell_type": "code",
      "source": [
        "from googletrans import Translator"
      ],
      "metadata": {
        "id": "vGldFexSgimt"
      },
      "execution_count": null,
      "outputs": []
    },
    {
      "cell_type": "code",
      "source": [
        "translator = Translator()\n",
        "translation=translator.translate(\"\"\"con đốt điếu cần để cúng cho Di Lặc\n",
        "Cám ơn người đã ban quần áo con đang mặt\n",
        "Chén cơm con đang ăn ….cong cần con đang cắt\n",
        "Cuốc sống cũa con hôm nay\n",
        "Con cám ơn người đã để mắt tới con\n",
        "Cuộc sống này có bao nhiêu điều đẹp\n",
        "Nhìn đâu đâu cũng đẹp….từ cây bông cho đến đôi dép , cây đẹp nhà đẹp\n",
        "Ngoài đường các em gái đang chay xe trên đường Nguyễn Trãi e thẹn nhìn con\n",
        "Con đang đươc bay , bay như người say\n",
        "Quên đi hết cuộc đời này nêu như con chết đêm nay\n",
        "Cũng fai hút cạn điếu này . Nghe một bài nhac thật hay\n",
        "Tận hưởng đến giọt cuối cùng . Mặt kệ rượu cay\n",
        "Một điếu , cho anh em người cùng con vào sinh ra tử\n",
        "Một điếu , cho cha mẹ Tội bất hiếu này thật khó tha thứ\n",
        "Một điếu , dành cho trời Một điếu dành cho đất\n",
        "Một điếu………Dành cho những người lạy trước bàn thờ khi con mất\n",
        "_____// Đọc kinh//_______\n",
        "Mô phật phù hộ độ trì cho con\n",
        "Chạy một vòng ở Sài gòn con muốn an… toàn\n",
        "Không bị cướp , không bị phạt Con muốn tiền còn\n",
        "Con muốn mình được thanh thản không muốn nó phiền con\n",
        "Muốn một ngày thật là đẹp , không có mưa , nắng không gắt\n",
        "Con muốn anh em cũa mình Không còn bị giam sau song sắt\n",
        "Cháy không tắt , hút điếu cần Trên đường phố không ai bị bắt\n",
        "Bởi con chắc\n",
        "Bữa cơm tối gia đình không muốn một ai vắng mặt\n",
        "xin đấng trên nghe lới cầu xin\n",
        "Con chỉ mưu cầu hạnh phúc , cho người anh cho nguoi em\n",
        "Cho ngưới bạn cũa Lão Đại , hút cùng nhau\n",
        "Một điếu , cho anh em người cùng con vào sinh ra tử\n",
        "Một điếu , cho cha me tội bất hiếu này khó tha thứ\n",
        "Một điếu , dành cho trời Một điếu , dành cho đất\n",
        "Một điếu , dành cho những ngưới lạy trước bàn thờ khi con mất\n",
        "Cầu trời khẩn phật cho anh em con an toàn\n",
        "Một lạy xin đất cho me cha con bình an\n",
        "Nam mô cuối đầu Con không muốn sống lâu\n",
        "Con chỉ muốn xin người lắng nghe . Đây là lời con khẩn cầu\n",
        "Một điếu , cho anh em người cùng con vào sinh ra tử\n",
        "Một điếu , cho cha mẹ tội bất hiếu này khó tha thứ\n",
        "Một điếu , dành cho trời Một điếu dành cho đất\n",
        "Một điếu , dành cho những người lạy trước bàn thờ khi con mất\n",
        "NAm Mô…………….. ……………….\"\"\",dest='en')\n",
        "print(translation.text)"
      ],
      "metadata": {
        "colab": {
          "base_uri": "https://localhost:8080/"
        },
        "id": "buyq0hy2gttC",
        "outputId": "df744b67-d51e-408d-9e9f-7ff34f294713"
      },
      "execution_count": null,
      "outputs": [
        {
          "output_type": "stream",
          "name": "stdout",
          "text": [
            "I light a cigarette to offer to Maitreya\n",
            "Thank you for giving me the clothes I'm wearing\n",
            "The bowl of rice I'm eating….I need you to cut it\n",
            "My life today\n",
            "I thank you for keeping an eye on me\n",
            "There are so many beautiful things in this life\n",
            "Everywhere you look is beautiful….from the cotton tree to the sandals, the beautiful tree, the beautiful house\n",
            "In the street, the girls are driving on Nguyen Trai street shyly looking at their children\n",
            "I'm flying, flying like a drunk\n",
            "Forget about this life if you die tonight\n",
            "Also smoked this cigarette. Listen to a great song\n",
            "Enjoy to the last drop. Spicy wine shelf\n",
            "One cigarette, giving birth and death to brothers and sisters\n",
            "One cigarette, for parents This unfilial sin is hard to forgive\n",
            "One cigarette, for heaven One cigarette for earth\n",
            "A cigarette……For those who bow in front of the altar when I die\n",
            "_____// Blessing//_______\n",
            "Buddha model to bless your child\n",
            "Running around in Saigon I want to be safe…\n",
            "No robbery, no penalty I want money left\n",
            "I want to be at peace, I don't want it to bother me\n",
            "Want a really beautiful day, no rain, no hot sun\n",
            "I want my brothers No more imprisoned behind bars\n",
            "The fire doesn't go out, smokes a cigarette On the street, no one gets caught\n",
            "Because I'm sure\n",
            "Family dinners do not want anyone to be absent\n",
            "may the above hear my pleas\n",
            "I only seek happiness, for my brother for my younger brother\n",
            "For Lao Dai's old friend, smoke together\n",
            "One cigarette, giving birth and death to brothers and sisters\n",
            "One cigarette, for my parents, this unforgivable sin is hard to forgive\n",
            "One cigarette, for heaven One cigarette, for earth\n",
            "One cigarette, for those who bow in front of the altar when I die\n",
            "I pray to God to keep my brothers and sisters safe\n",
            "One bow to the land, give me father and son peace\n",
            "I don't want to live long\n",
            "I just want people to listen. This is my plea\n",
            "One cigarette, giving birth and death to brothers and sisters\n",
            "One cigarette, for parents this unfilial sin is hard to forgive\n",
            "One cigarette, for heaven One cigarette for earth\n",
            "One cigarette, for those who bow before the altar when I die\n",
            "Nam Mo…………….. …………………….\n"
          ]
        }
      ]
    },
    {
      "cell_type": "code",
      "source": [],
      "metadata": {
        "id": "Qzj6wP9Og19q"
      },
      "execution_count": null,
      "outputs": []
    }
  ]
}